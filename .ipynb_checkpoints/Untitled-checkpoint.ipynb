{
 "cells": [
  {
   "cell_type": "code",
   "execution_count": 6,
   "metadata": {},
   "outputs": [],
   "source": [
    "names = ['Bruce Wayne', 'Wade Wilson','Clark Kent','Peter Parker']\n",
    "heroes = ['Batman','Deadpool','Superman','Spiderman']\n",
    "universes = ['DC','Marvel','DC','Marvel']"
   ]
  },
  {
   "cell_type": "code",
   "execution_count": 7,
   "metadata": {},
   "outputs": [
    {
     "name": "stdout",
     "output_type": "stream",
     "text": [
      "Bruce Wayne is actually Batman from DC\n",
      "Wade Wilson is actually Deadpool from Marvel\n",
      "Clark Kent is actually Superman from DC\n",
      "Peter Parker is actually Spiderman from Marvel\n"
     ]
    }
   ],
   "source": [
    "for index, name in enumerate(names):\n",
    "    hero = heroes[index]\n",
    "    universe = universes[index]\n",
    "    print(f'{name} is actually {hero} from {universe}')"
   ]
  },
  {
   "cell_type": "code",
   "execution_count": null,
   "metadata": {},
   "outputs": [],
   "source": [
    "Best Practise is to use Zip function in such scenarios. ZIP function allows you to loop over two or more list at once and returns both values of the list at once."
   ]
  },
  {
   "cell_type": "code",
   "execution_count": 10,
   "metadata": {},
   "outputs": [
    {
     "name": "stdout",
     "output_type": "stream",
     "text": [
      "Bruce Wayne is actually Batman from DC\n",
      "Wade Wilson is actually Deadpool from Marvel\n",
      "Clark Kent is actually Superman from DC\n",
      "Peter Parker is actually Spiderman from Marvel\n"
     ]
    }
   ],
   "source": [
    "for name,hero,universe in zip(names,heroes,universes):\n",
    "    print(f'{name} is actually {hero} from {universe}')"
   ]
  },
  {
   "cell_type": "code",
   "execution_count": null,
   "metadata": {},
   "outputs": [],
   "source": [
    "So we can see that we get same result but it is bit more cleaner and intuitive."
   ]
  }
 ],
 "metadata": {
  "kernelspec": {
   "display_name": "Python 3",
   "language": "python",
   "name": "python3"
  },
  "language_info": {
   "codemirror_mode": {
    "name": "ipython",
    "version": 3
   },
   "file_extension": ".py",
   "mimetype": "text/x-python",
   "name": "python",
   "nbconvert_exporter": "python",
   "pygments_lexer": "ipython3",
   "version": "3.7.4"
  }
 },
 "nbformat": 4,
 "nbformat_minor": 2
}
